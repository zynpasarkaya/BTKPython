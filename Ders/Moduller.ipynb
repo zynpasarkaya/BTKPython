{
  "nbformat": 4,
  "nbformat_minor": 0,
  "metadata": {
    "colab": {
      "provenance": []
    },
    "kernelspec": {
      "name": "python3",
      "display_name": "Python 3"
    },
    "language_info": {
      "name": "python"
    }
  },
  "cells": [
    {
      "cell_type": "code",
      "execution_count": 2,
      "metadata": {
        "colab": {
          "base_uri": "https://localhost:8080/"
        },
        "id": "hJ6iZyGOiFKz",
        "outputId": "dc1f84d0-2587-44dd-bf11-19613bd8d8b8"
      },
      "outputs": [
        {
          "output_type": "stream",
          "name": "stdout",
          "text": [
            "['__doc__', '__loader__', '__name__', '__package__', '__spec__', 'acos', 'acosh', 'asin', 'asinh', 'atan', 'atan2', 'atanh', 'ceil', 'comb', 'copysign', 'cos', 'cosh', 'degrees', 'dist', 'e', 'erf', 'erfc', 'exp', 'expm1', 'fabs', 'factorial', 'floor', 'fmod', 'frexp', 'fsum', 'gamma', 'gcd', 'hypot', 'inf', 'isclose', 'isfinite', 'isinf', 'isnan', 'isqrt', 'lcm', 'ldexp', 'lgamma', 'log', 'log10', 'log1p', 'log2', 'modf', 'nan', 'nextafter', 'perm', 'pi', 'pow', 'prod', 'radians', 'remainder', 'sin', 'sinh', 'sqrt', 'tan', 'tanh', 'tau', 'trunc', 'ulp']\n"
          ]
        }
      ],
      "source": [
        "import math\n",
        "\n",
        "value = dir(math) #math içinde olan tüm fonksiyonlar\n",
        "value = help(math)\n",
        "print(value)"
      ]
    },
    {
      "cell_type": "code",
      "source": [
        "value = math.sqrt(49)\n",
        "value = math.factorial(45)\n",
        "\n",
        "print(value)"
      ],
      "metadata": {
        "colab": {
          "base_uri": "https://localhost:8080/"
        },
        "id": "fPRNX2Kqj1iS",
        "outputId": "73fa5208-4643-4742-ee00-f16b261d14fc"
      },
      "execution_count": 5,
      "outputs": [
        {
          "output_type": "stream",
          "name": "stdout",
          "text": [
            "119622220865480194561963161495657715064383733760000000000\n"
          ]
        }
      ]
    },
    {
      "cell_type": "code",
      "source": [
        "from math import * #ikinci yöntem import etmenin\n",
        "from math import factorial,sqrt"
      ],
      "metadata": {
        "id": "Cf4Kl2YklL2x"
      },
      "execution_count": null,
      "outputs": []
    },
    {
      "cell_type": "markdown",
      "source": [
        "# Random modulü"
      ],
      "metadata": {
        "id": "X-h8Eq9UtmdG"
      }
    },
    {
      "cell_type": "code",
      "source": [
        "\n",
        "import random\n",
        "\n",
        "result = random.random() #0.0 ile 0.1 arasında rastegele sayı\n",
        "\n",
        "print(result)"
      ],
      "metadata": {
        "colab": {
          "base_uri": "https://localhost:8080/"
        },
        "id": "-Eq4RSQyoPPZ",
        "outputId": "9b6091fe-13fc-45db-d343-7296796289dd"
      },
      "execution_count": 11,
      "outputs": [
        {
          "output_type": "stream",
          "name": "stdout",
          "text": [
            "0.4125052642176278\n"
          ]
        }
      ]
    },
    {
      "cell_type": "code",
      "source": [
        "result = int(random.uniform(1,10))\n",
        "result"
      ],
      "metadata": {
        "colab": {
          "base_uri": "https://localhost:8080/"
        },
        "id": "iPrNgUQmpS4G",
        "outputId": "f93fb43c-0a01-444c-9808-99d196ceb650"
      },
      "execution_count": 13,
      "outputs": [
        {
          "output_type": "execute_result",
          "data": {
            "text/plain": [
              "6"
            ]
          },
          "metadata": {},
          "execution_count": 13
        }
      ]
    },
    {
      "cell_type": "code",
      "source": [
        "result = random.randint(1,100) # int değer de rastgele\n",
        "result"
      ],
      "metadata": {
        "id": "jZlg8DIkplQ_"
      },
      "execution_count": null,
      "outputs": []
    },
    {
      "cell_type": "code",
      "source": [
        "names = ['ali','yağmur','deniz','cenk']\n",
        "greet = 'hello there'\n",
        "result = names[random.randint(0,len(names)-1)]\n",
        "\n",
        "result = random.choice(names) #liste içinde string ifade rastgele\n",
        "result = random.choice(greet)\n",
        "\n",
        "liste =list(range(10))\n",
        "random.shuffle(liste) #listedeki değerleri random olarak\n",
        "result = liste\n",
        "\n",
        "liste = range(100)\n",
        "result = random.sample(liste,3) #istediğimiz kadar\n",
        "\n",
        "\n",
        "print(result)"
      ],
      "metadata": {
        "colab": {
          "base_uri": "https://localhost:8080/"
        },
        "id": "qgLAIin4tv9L",
        "outputId": "1bb45b8d-cd2e-4f99-9ea6-569a3edbbd7c"
      },
      "execution_count": 25,
      "outputs": [
        {
          "output_type": "stream",
          "name": "stdout",
          "text": [
            "[41, 84, 60]\n"
          ]
        }
      ]
    },
    {
      "cell_type": "code",
      "source": [],
      "metadata": {
        "id": "Y5R47Kp6vBN5"
      },
      "execution_count": null,
      "outputs": []
    }
  ]
}