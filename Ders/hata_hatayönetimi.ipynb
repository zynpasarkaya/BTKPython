{
  "nbformat": 4,
  "nbformat_minor": 0,
  "metadata": {
    "colab": {
      "provenance": []
    },
    "kernelspec": {
      "name": "python3",
      "display_name": "Python 3"
    },
    "language_info": {
      "name": "python"
    }
  },
  "cells": [
    {
      "cell_type": "markdown",
      "source": [
        "hata => nameError, ValueError, ZeroDivisionError, Syantax"
      ],
      "metadata": {
        "id": "6M07WYwKgaNq"
      }
    },
    {
      "cell_type": "code",
      "execution_count": null,
      "metadata": {
        "colab": {
          "base_uri": "https://localhost:8080/"
        },
        "id": "gZCjqIWagI79",
        "outputId": "01ca2fc6-9005-466d-a010-36365d5a8b76"
      },
      "outputs": [
        {
          "output_type": "stream",
          "name": "stdout",
          "text": [
            "x: 5\n",
            "y: yu\n",
            "x ve y değerler için sayısal değer girin,\n"
          ]
        }
      ],
      "source": [
        "try:\n",
        "   x = int(input('x: '))\n",
        "   y = int(input('y: '))\n",
        "   print(x/y)\n",
        "\n",
        "except ZeroDivisionError:\n",
        "   print('sıfır girme')\n",
        "\n",
        "except ValueError:\n",
        "   print('x ve y değerler için sayısal değer girin, ')"
      ]
    },
    {
      "cell_type": "code",
      "source": [
        "try:\n",
        "   x = int(input('x: '))\n",
        "   y = int(input('y: '))\n",
        "   print(x/y)\n",
        "\n",
        "except (ZeroDivisionError,ValueError) as e:\n",
        "  print(e)"
      ],
      "metadata": {
        "colab": {
          "base_uri": "https://localhost:8080/"
        },
        "id": "SLYucVdqpZ7f",
        "outputId": "e3a13ee6-b66c-4c61-f54f-a1124756e5f8"
      },
      "execution_count": null,
      "outputs": [
        {
          "output_type": "stream",
          "name": "stdout",
          "text": [
            "x: tg\n",
            "invalid literal for int() with base 10: 'tg'\n"
          ]
        }
      ]
    },
    {
      "cell_type": "code",
      "source": [
        "try:\n",
        "   x = int(input('x: '))\n",
        "   y = int(input('y: '))\n",
        "   print(x/y)\n",
        "\n",
        "except:\n",
        "  print('Yanlış bilgi girdiniz')\n",
        "\n",
        "else:\n",
        "  print('herşey yolunda')"
      ],
      "metadata": {
        "id": "ZYEeA84eqf9T"
      },
      "execution_count": null,
      "outputs": []
    },
    {
      "cell_type": "code",
      "source": [
        "while true:\n",
        " try:\n",
        "   x = int(input('x: '))\n",
        "   y = int(input('y: '))\n",
        "   print(x/y)\n",
        "\n",
        " except:\n",
        "   print('yanlış bilgi girdiniz')\n",
        " else:\n",
        "  break"
      ],
      "metadata": {
        "id": "3zxfhAE5GL4a"
      },
      "execution_count": null,
      "outputs": []
    },
    {
      "cell_type": "code",
      "source": [
        "while true:\n",
        " try:\n",
        "    x = int(input('x: '))\n",
        "    y = int(input('y: '))\n",
        "    print(x/y)\n",
        "\n",
        " except Exception as ex: # Genel hata \n",
        "    print('yanlış bilgi girdiniz', ex)\n",
        " else:\n",
        "    break\n",
        " finally: #dosyaların değişkenlerin sonlanması aşamasında kullanılabilir\n",
        "     print('Try except sonlandı')"
      ],
      "metadata": {
        "id": "wGp-7PuTG6qp"
      },
      "execution_count": null,
      "outputs": []
    },
    {
      "cell_type": "code",
      "source": [
        "def check(psw):\n",
        "  import re\n",
        "  if len(psw) < 8: #raise ile exception fırlatma\n",
        "    raise Exception('parola en az 7 karakterli olmalı')\n",
        "\n",
        "  elif not re.search('[a-z]',psw): #re.serach karakter arama psw içinde\n",
        "    raise Exception('Parola küçük harf içermeli')\n",
        "  elif not re.search('[A-Z]',psw):\n",
        "    raise Exception('Parola Büyük harf içermeli')\n",
        "  elif re.search('\\s',psw):\n",
        "    raise Exception('boşluk içermemeli')\n",
        "\n",
        "password = '12345678L'\n",
        "\n",
        "try: \n",
        "  check(password)\n",
        "except Exception as ex:\n",
        "  print(ex)\n",
        "else:\n",
        "   print('geçerli parola')"
      ],
      "metadata": {
        "colab": {
          "base_uri": "https://localhost:8080/"
        },
        "id": "5rPO4TG7KIBX",
        "outputId": "e7a603a6-fba2-4691-fb6f-7492d0e87c7b"
      },
      "execution_count": 11,
      "outputs": [
        {
          "output_type": "stream",
          "name": "stdout",
          "text": [
            "Parola küçük harf içermeli\n"
          ]
        }
      ]
    },
    {
      "cell_type": "code",
      "source": [
        "class Person:\n",
        "  def __init__(self,name,year):\n",
        "    if len(name) > 10:\n",
        "       raise Exception('name alanı fazla karakter içeriyor')\n",
        "    else:\n",
        "       self.name = name\n",
        "\n",
        "p = Person('zeynep',1990)      "
      ],
      "metadata": {
        "id": "kE9tCSV7OE6e"
      },
      "execution_count": 16,
      "outputs": []
    }
  ]
}