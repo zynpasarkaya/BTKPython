{
  "nbformat": 4,
  "nbformat_minor": 0,
  "metadata": {
    "colab": {
      "provenance": []
    },
    "kernelspec": {
      "name": "python3",
      "display_name": "Python 3"
    },
    "language_info": {
      "name": "python"
    }
  },
  "cells": [
    {
      "cell_type": "code",
      "execution_count": 11,
      "metadata": {
        "colab": {
          "base_uri": "https://localhost:8080/"
        },
        "id": "xbTNSXIzvDKL",
        "outputId": "8698712c-c63d-4282-83da-5699e439b2b5"
      },
      "outputs": [
        {
          "output_type": "stream",
          "name": "stdout",
          "text": [
            "outer\n",
            "inner\n",
            "10 11\n"
          ]
        }
      ],
      "source": [
        "#Encapsulation \n",
        "def outer(num1):\n",
        "   print('outer')\n",
        "   def inner_increment(num1):\n",
        "     print('inner')\n",
        "     return num1 + 1 \n",
        "   num2 = inner_increment(num1) \n",
        "   print(num1,num2)\n",
        "\n",
        "outer(10)   \n"
      ]
    },
    {
      "cell_type": "code",
      "source": [
        "def factorial(number):\n",
        "  if not isinstance(number, int):\n",
        "    raise TypeError('number hatası')\n",
        "\n",
        "  def inner_factorial(number):\n",
        "     if number <= 1:\n",
        "       return 1\n",
        "     return number * inner_factorial(number - 1) \n",
        "  return inner_factorial(number)\n",
        "\n",
        "print(factorial(7))\n",
        "\n"
      ],
      "metadata": {
        "colab": {
          "base_uri": "https://localhost:8080/"
        },
        "id": "2K0gqHxk3UB7",
        "outputId": "d8898912-1b81-4d34-b7c9-862b6f47dae1"
      },
      "execution_count": 15,
      "outputs": [
        {
          "output_type": "stream",
          "name": "stdout",
          "text": [
            "5040\n"
          ]
        }
      ]
    },
    {
      "cell_type": "code",
      "source": [
        "#fonksiyon döndürme\n",
        "\n",
        "def usalma(number):\n",
        "\n",
        "  def inner(power):\n",
        "    return number ** power\n",
        "  return inner\n",
        "\n",
        "two = usalma(2) # değer değil fonk gönderiyor ve two inner fok temsil ediyor\n",
        "print(two(3))"
      ],
      "metadata": {
        "colab": {
          "base_uri": "https://localhost:8080/"
        },
        "id": "ip76LEQr6IdH",
        "outputId": "5b5ec818-afdb-414a-cc14-315595d6252f"
      },
      "execution_count": 18,
      "outputs": [
        {
          "output_type": "stream",
          "name": "stdout",
          "text": [
            "8\n"
          ]
        }
      ]
    },
    {
      "cell_type": "code",
      "source": [
        "def yetki_sorgula(page):\n",
        "  def inner(role):\n",
        "    if role == 'admin':\n",
        "      return '{0} rolü {1} sayfasına ulaşabilir'.format(role,page)\n",
        "    else:\n",
        "      return '{0} rolü {1} sayfasına ulaşabilir'.format(role,page)\n",
        "  return inner\n",
        "user1 = yetki_sorgula('product')\n",
        "print(user1('admin'))\n"
      ],
      "metadata": {
        "colab": {
          "base_uri": "https://localhost:8080/"
        },
        "id": "zv0kUOsv77i7",
        "outputId": "5d5bcfb4-b3b7-4a6f-887a-0f0b16cd5496"
      },
      "execution_count": 20,
      "outputs": [
        {
          "output_type": "stream",
          "name": "stdout",
          "text": [
            "admin rolü product sayfasına ulaşabilir\n"
          ]
        }
      ]
    },
    {
      "cell_type": "code",
      "source": [
        "def islem(islem_adi):\n",
        "  def toplam(*args):\n",
        "     toplam = 0\n",
        "     for i in args:\n",
        "       toplam +=i\n",
        "     return toplam\n",
        "\n",
        "  def carpma(*args):\n",
        "     carpim = 1\n",
        "     for i in args:\n",
        "       carpim *=i\n",
        "     return carpim\n",
        "\n",
        "  if islem_adi == 'toplama':\n",
        "    return toplam\n",
        "  else:\n",
        "    return carpma\n",
        "\n",
        "toplama = islem('toplama')\n",
        "print(toplama(1,2,3,4,5,6))\n",
        "  "
      ],
      "metadata": {
        "colab": {
          "base_uri": "https://localhost:8080/"
        },
        "id": "TIJUPxLuKTnA",
        "outputId": "1256d5af-89df-4591-bf49-3fdee5a3e070"
      },
      "execution_count": 21,
      "outputs": [
        {
          "output_type": "stream",
          "name": "stdout",
          "text": [
            "21\n"
          ]
        }
      ]
    },
    {
      "cell_type": "code",
      "source": [
        "#functions as Parameters\n",
        "def toplama(a,b):\n",
        "  return a+b\n",
        "def cikarma(a,b):\n",
        "  return a-b\n",
        "def carpma(a,b):\n",
        "  return a*b\n",
        "def bolme(a,b):\n",
        "  return a/b\n",
        "\n",
        "def islem(f1,f2,f3,f4,islem_adi):\n",
        "  if islem_adi == 'toplama':\n",
        "    print(f1(2,3))\n",
        "  elif islem_adi == 'cikarma':\n",
        "    print(f2(5,3))\n",
        "  elif islem_adi == 'carpma':\n",
        "    print(f3(3,4))\n",
        "  elif islem_adi == 'bolme':\n",
        "    print(f4(10,2))\n",
        "  else:\n",
        "    print('geçersiz işlem')\n",
        "\n",
        "islem(toplama, cikarma, carpma, bolme, 'toplama')\n",
        "islem(toplama, cikarma, carpma, bolme, 'cikarma')\n",
        "islem(toplama, cikarma, carpma, bolme, 'carpma')\n",
        "islem(toplama, cikarma, carpma, bolme, 'bolme')"
      ],
      "metadata": {
        "colab": {
          "base_uri": "https://localhost:8080/"
        },
        "id": "4m_wx-_xME5X",
        "outputId": "1c7091ce-bc3e-4623-f34a-83fc1957e80b"
      },
      "execution_count": 22,
      "outputs": [
        {
          "output_type": "stream",
          "name": "stdout",
          "text": [
            "5\n",
            "2\n",
            "12\n",
            "5.0\n"
          ]
        }
      ]
    },
    {
      "cell_type": "code",
      "source": [
        "#decorator fonksiyon oluşturma\n",
        "\n",
        "def my_decorator(func):\n",
        "  def wrapper():\n",
        "    print('fonksiyondan önceki işlemler')\n",
        "    func()\n",
        "    print('fonksiyondan sonraki işlemler')\n",
        "  return wrapper\n",
        "\n",
        "def sayHello():\n",
        "  print('hello')\n",
        "\n",
        "def sayGreeting():\n",
        "  print('greeting')\n",
        "\n",
        "sayHello = my_decorator(sayHello)\n",
        "sayHello()"
      ],
      "metadata": {
        "colab": {
          "base_uri": "https://localhost:8080/"
        },
        "id": "2b87XTrVRBoH",
        "outputId": "c92c3f88-c7f6-4c5e-e51d-00cb8e201ceb"
      },
      "execution_count": 2,
      "outputs": [
        {
          "output_type": "stream",
          "name": "stdout",
          "text": [
            "fonksiyondan önceki işlemler\n",
            "hello\n",
            "fonksiyondan sonraki işlemler\n"
          ]
        }
      ]
    },
    {
      "cell_type": "code",
      "source": [
        "from os import name\n",
        "def my_decorator(func):\n",
        "  def wrapper(name):\n",
        "    print('fonksiyondan önceki işlemler')\n",
        "    func(name)\n",
        "    print('fonksiyondan sonraki işlemler')\n",
        "  return wrapper\n",
        "\n",
        "@my_decorator\n",
        "def sayHello():\n",
        "  print('hello',name)\n",
        "\n",
        "def sayGreeting():\n",
        "  print('greeting')\n",
        "\n",
        "sayHello()"
      ],
      "metadata": {
        "colab": {
          "base_uri": "https://localhost:8080/"
        },
        "id": "tUWxJcSnRIet",
        "outputId": "ed337f59-ebe1-41af-a241-ca0dfcf5929b"
      },
      "execution_count": 3,
      "outputs": [
        {
          "output_type": "stream",
          "name": "stdout",
          "text": [
            "fonksiyondan önceki işlemler\n",
            "hello\n",
            "fonksiyondan sonraki işlemler\n"
          ]
        }
      ]
    },
    {
      "cell_type": "code",
      "source": [
        "import math\n",
        "import time\n",
        "\n",
        "def usalma(a,b):\n",
        "  start = time.time()\n",
        "  time.sleep(1)\n",
        "  print(math.pow(a,b))\n",
        "  finish = time.time()\n",
        "  print('fonksiyon' + str(finish - start) +'saniye sürdü' )\n",
        "\n",
        "def faktoriyel(num):\n",
        "  start = time.time()\n",
        "  time.sleep(1)\n",
        "  print(math.factorial(num))\n",
        "  finish = time.time()\n",
        "  print('fonksiyon' + str(finish - start) +'saniye sürdü' )\n",
        "\n",
        "\n",
        "usalma(3,4)\n",
        "faktoriyel(5)"
      ],
      "metadata": {
        "colab": {
          "base_uri": "https://localhost:8080/"
        },
        "id": "Yo1zlO_mUlFL",
        "outputId": "8db028a7-0839-4618-b7b7-a6f906a750c4"
      },
      "execution_count": 4,
      "outputs": [
        {
          "output_type": "stream",
          "name": "stdout",
          "text": [
            "81.0\n",
            "fonksiyon1.0009088516235352saniye sürdü\n",
            "120\n",
            "fonksiyon1.0023503303527832saniye sürdü\n"
          ]
        }
      ]
    },
    {
      "cell_type": "code",
      "source": [
        "import math\n",
        "import time\n",
        "\n",
        "def cal(func):\n",
        "  def inner(*args,**kwargs):\n",
        "    start = time.time()\n",
        "    time.sleep(1)\n",
        "    func(*args,**kwargs)\n",
        "    finish = time.time()\n",
        "    print('fonksiyon' + str(finish - start) +'saniye sürdü' )\n",
        "  return inner\n",
        "\n",
        "@cal\n",
        "def usalma(a,b):\n",
        "  print(math.pow(a,b))\n",
        " \n",
        "@cal\n",
        "def faktoriyel(num):\n",
        "   print(math.factorial(num))\n",
        "\n",
        "usalma(3,4)\n",
        "faktoriyel(5) "
      ],
      "metadata": {
        "colab": {
          "base_uri": "https://localhost:8080/"
        },
        "id": "7NKS5xFsXCut",
        "outputId": "576fbf04-1171-436d-bdc5-0fd552a084b0"
      },
      "execution_count": 9,
      "outputs": [
        {
          "output_type": "stream",
          "name": "stdout",
          "text": [
            "81.0\n",
            "fonksiyon1.002751111984253saniye sürdü\n",
            "120\n",
            "fonksiyon1.0016803741455078saniye sürdü\n"
          ]
        }
      ]
    }
  ]
}