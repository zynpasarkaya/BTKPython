{
  "nbformat": 4,
  "nbformat_minor": 0,
  "metadata": {
    "colab": {
      "provenance": []
    },
    "kernelspec": {
      "name": "python3",
      "display_name": "Python 3"
    },
    "language_info": {
      "name": "python"
    }
  },
  "cells": [
    {
      "cell_type": "code",
      "execution_count": 3,
      "metadata": {
        "id": "24i23xARr3Oz"
      },
      "outputs": [],
      "source": [
        "file = open('newfile.txt','w',encoding='utf-8') #Dosya açarken daha fazla karakter desteği\n",
        "file.write('aybars yakışıklı')\n",
        "file.close()"
      ]
    },
    {
      "cell_type": "code",
      "source": [
        "file = open('newfile.txt','a',encoding='utf-8') \n",
        "file.write('\\naybars yakışıklı ve güzel') #\\n alt satır \n",
        "file.close()"
      ],
      "metadata": {
        "id": "Xz-UAdH02lnK"
      },
      "execution_count": 5,
      "outputs": []
    },
    {
      "cell_type": "code",
      "source": [
        "#Dosya okuma\n",
        "\n",
        "file = open('newfile2.txt','r',encoding='utf-8')\n",
        "# for döngüsüyle okuma\n",
        "for i in file:\n",
        "  print(i, end='')\n",
        "file.close()\n",
        "\n",
        "#read komutuyla okuma\n",
        "con = file.read()\n",
        "print(con)\n",
        "\n",
        "#istediğin kısım kadar okuma\n",
        "conte = file.read(5) \n",
        "print(conte)\n",
        "\n",
        "\n",
        "#redline---> her seferinde bir satır okur\n",
        "\n",
        "print(file.readline(), end='') \n",
        "\n",
        "#readlines-->\n",
        "liste =file.readlines()\n",
        "print(liste[]) #dosya içindekileri liste halinde yazar\n",
        "\n"
      ],
      "metadata": {
        "id": "I4SkP8E63LzI"
      },
      "execution_count": null,
      "outputs": []
    },
    {
      "cell_type": "code",
      "source": [
        "#dosya okuma if bloğu gibi with bloğu kullanma\n",
        "#dosya kapatma komutuna gerek yok\n",
        "\n",
        "with open('newfile.txt','r',encoding='utf-8') as file:\n",
        "\n",
        "   cont = file.read()\n",
        "   print(cont)\n",
        "   file.seek(0) #imlecin konumunu değiştirir\n",
        "   print(file.tell()) #imleç konumunu verir\n"
      ],
      "metadata": {
        "colab": {
          "base_uri": "https://localhost:8080/"
        },
        "id": "wW7d7_PTJAoM",
        "outputId": "d0eec4c4-486d-46fa-b86e-805ee90ff518"
      },
      "execution_count": 10,
      "outputs": [
        {
          "output_type": "stream",
          "name": "stdout",
          "text": [
            "aybars yakışıklıaybars yakışıklı ve güzel\n",
            "aybars yakışıklı ve güzel\n",
            "0\n"
          ]
        }
      ]
    },
    {
      "cell_type": "code",
      "source": [
        "#dosya güncelleme işlemleri\n",
        "\n",
        "with open('newfile.txt','r+', encoding='utf-8') as file:\n",
        "  file.seek(20)\n",
        "  file.write('deneme ') \n",
        "  \n",
        "with open('newfile.txt','r+', encoding='utf-8') as file:  \n",
        "  print(file.read())\n",
        "\n",
        "   "
      ],
      "metadata": {
        "colab": {
          "base_uri": "https://localhost:8080/"
        },
        "id": "bxfI8CUgMQAn",
        "outputId": "b4245b2e-da6c-443f-9361-694de4ed4133"
      },
      "execution_count": 22,
      "outputs": [
        {
          "output_type": "stream",
          "name": "stdout",
          "text": [
            "deneme yakışıklıdeneme yakışıklı ve güzel\n",
            "aybars yakışıklı ve güzel\n"
          ]
        }
      ]
    },
    {
      "cell_type": "code",
      "source": [
        "#dosyaya ekleme işlemleri\n",
        "\n",
        "with open('newfile.txt','a', encoding='utf-8') as file:\n",
        "  file.write('\\nAbdullah') #sayfa sonunda güncelleme\n",
        "\n",
        "with open('newfile.txt','r', encoding='utf-8') as file:\n",
        "  print(file.read())\n",
        "\n",
        "#-----------------------------------------------------------\n",
        "\n",
        "with open('newfile.txt','r+', encoding='utf-8') as file:\n",
        "  cont =file.read() #sayfa başında güncelleme\n",
        "  cont = 'Maysa\\n' + cont\n",
        "  file.seek(0)\n",
        "  file.write(cont)\n",
        "  print(cont)\n",
        "\n",
        "with open('newfile.txt','r', encoding='utf-8') as file:\n",
        "  print(file.read())"
      ],
      "metadata": {
        "colab": {
          "base_uri": "https://localhost:8080/"
        },
        "id": "YCimrJByOWul",
        "outputId": "08f4bb6f-bdd6-4eeb-e249-697263129e38"
      },
      "execution_count": 25,
      "outputs": [
        {
          "output_type": "stream",
          "name": "stdout",
          "text": [
            "deneme yakışıklıdeneme yakışıklı ve güzel\n",
            "aybars yakışıklı ve güzel\n",
            "Abdullah\n",
            "Abdullah\n",
            "Abdullah\n",
            "Maysa\n",
            "deneme yakışıklıdeneme yakışıklı ve güzel\n",
            "aybars yakışıklı ve güzel\n",
            "Abdullah\n",
            "Abdullah\n",
            "Abdullah\n",
            "Maysa\n",
            "deneme yakışıklıdeneme yakışıklı ve güzel\n",
            "aybars yakışıklı ve güzel\n",
            "Abdullah\n",
            "Abdullah\n",
            "Abdullah\n"
          ]
        }
      ]
    },
    {
      "cell_type": "code",
      "source": [
        "#sayfa ortasında güncelleme\n",
        "\n",
        "with open('newfile.txt','r+', encoding='utf-8') as file:\n",
        "  liste = file.readlines()\n",
        "  liste.insert(3,'Huzeyfe\\n')\n",
        "  file.seek(0)\n",
        "  file.writelines(liste) \n",
        "  print(liste)\n",
        "\n",
        "with open('newfile.txt','r', encoding='utf-8') as file:\n",
        "  print(file.read())"
      ],
      "metadata": {
        "colab": {
          "base_uri": "https://localhost:8080/"
        },
        "id": "QEOnDMWpaiQQ",
        "outputId": "6e3f5184-82da-4f6d-f4d9-14916664b1e4"
      },
      "execution_count": 32,
      "outputs": [
        {
          "output_type": "stream",
          "name": "stdout",
          "text": [
            "['Abdullah\\n', 'zeynep\\n', 'aybars\\n', 'Huzeyfe', 'maysa']\n",
            "Abdullah\n",
            "zeynep\n",
            "aybars\n",
            "maysaAbdullah\n",
            "zeynep\n",
            "aybars\n",
            "Huzeyfemaysa\n"
          ]
        }
      ]
    }
  ]
}