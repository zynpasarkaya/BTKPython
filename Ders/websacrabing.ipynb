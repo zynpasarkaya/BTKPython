{
  "nbformat": 4,
  "nbformat_minor": 0,
  "metadata": {
    "colab": {
      "provenance": []
    },
    "kernelspec": {
      "name": "python3",
      "display_name": "Python 3"
    },
    "language_info": {
      "name": "python"
    }
  },
  "cells": [
    {
      "cell_type": "code",
      "execution_count": 1,
      "metadata": {
        "colab": {
          "base_uri": "https://localhost:8080/"
        },
        "id": "h1-P6yWxleXv",
        "outputId": "963b65dd-07ef-4891-f6cb-74492cb5a496"
      },
      "outputs": [
        {
          "output_type": "stream",
          "name": "stdout",
          "text": [
            "Looking in indexes: https://pypi.org/simple, https://us-python.pkg.dev/colab-wheels/public/simple/\n",
            "Requirement already satisfied: beautifulsoup4 in /usr/local/lib/python3.9/dist-packages (4.11.2)\n",
            "Requirement already satisfied: soupsieve>1.2 in /usr/local/lib/python3.9/dist-packages (from beautifulsoup4) (2.4)\n"
          ]
        }
      ],
      "source": [
        "pip install beautifulsoup4"
      ]
    },
    {
      "cell_type": "code",
      "source": [
        "html_doc = '''\n",
        " <!DOCTYPE html>\n",
        "<html lang=\"en\">\n",
        "<head>\n",
        "    <meta charset=\"UTF-8\">\n",
        "    <meta name=\"viewport\" content=\"width=device-width, initial-scale=1.0\">\n",
        "    <meta http-equiv=\"X-UA-Compatible\" content=\"ie=edge\">\n",
        "    <title>İlk web sayfam</title>\n",
        "</head>\n",
        "<body>\n",
        "\n",
        "    <h1 id=\"header\">\n",
        "        Python Kursu\n",
        "    </h1>\n",
        "\n",
        "    <div class=\"grup1\">\n",
        "        <h2>\n",
        "            Programlama\n",
        "        </h2>\n",
        "\n",
        "        <ul>\n",
        "            <li>Menü 1</li>\n",
        "            <li>Menü 2</li>\n",
        "            <li>Menü 3</li>\n",
        "        </ul>\n",
        "    </div>\n",
        "\n",
        "    <div class=\"grup2\">\n",
        "        <h2>\n",
        "            Modüller\n",
        "        </h2>\n",
        "\n",
        "        <ul>\n",
        "            <li>Menü 1</li>\n",
        "            <li>Menü 2</li>\n",
        "            <li>Menü 3</li>\n",
        "        </ul>\n",
        "    </div>\n",
        "\n",
        "    <div class=\"grup3\">\n",
        "        <h2>\n",
        "            Django\n",
        "        </h2>\n",
        "\n",
        "        <ul>\n",
        "            <li>Menü 1</li>\n",
        "            <li>Menü 2</li>\n",
        "            <li>Menü 3</li>\n",
        "        </ul>\n",
        "    </div>\n",
        "\n",
        "    <img src=\"fred.jpg\" alt=\"\">\n",
        "\n",
        "    <a class=\"sister\" href=\"http://example1.com/elsie\" id=\"link1\">Elsie</a>\n",
        "    <a class=\"sister\" href=\"http://example2.com/elsie\" id=\"link1\">Elsie</a>\n",
        "    <a class=\"sister\" href=\"http://example3.com/elsie\" id=\"link1\">Elsie</a>\n",
        "\n",
        "</body>\n",
        "</html>\n",
        "\n",
        "'''\n",
        "\n",
        "\n",
        "from bs4 import BeautifulSoup\n",
        "\n",
        "soup = BeautifulSoup(html_doc, 'html.parser')\n",
        "\n",
        "result = soup.prettify() # html dökümanını düzenlemnmiş olarak çıktı verir\n",
        "result = soup.title\n",
        "result = soup.head\n",
        "result = soup.body\n",
        "\n",
        "result = soup.title.name\n",
        "result = soup.title.string\n",
        "result = soup.h1\n",
        "result = soup.h2.string\n",
        "\n",
        "result = soup.find_all('h2') #arama yapma \n",
        "result = soup.find_all('h2')[0]\n",
        "\n",
        "result = soup.div #sadece ilk kısmı gelir\n",
        "result = soup.find_all('div') #tüm hepsi gelir\n",
        "result = soup.find_all('div')[0] #istediğin gelir\n",
        "result = soup.find_all('div')[1].ul.find_all('li') #dizi olarak gelir for döngüsüyle arama\n",
        "\n",
        "result = soup.div.findChildren() #alt katmanları bulma\n",
        "result = soup.div.findNextSibling() #diğerine geçiş\n",
        "\n",
        "result = soup.find_all('a')\n",
        "for link in result:\n",
        "  print(link.get('href'))\n",
        "\n",
        "print(result)"
      ],
      "metadata": {
        "colab": {
          "base_uri": "https://localhost:8080/"
        },
        "id": "iMMRfjTAUpP0",
        "outputId": "a1f5a28a-6cfd-4c08-c3c5-118d1d616b12"
      },
      "execution_count": 19,
      "outputs": [
        {
          "output_type": "stream",
          "name": "stdout",
          "text": [
            "http://example1.com/elsie\n",
            "http://example2.com/elsie\n",
            "http://example3.com/elsie\n",
            "[<a class=\"sister\" href=\"http://example1.com/elsie\" id=\"link1\">Elsie</a>, <a class=\"sister\" href=\"http://example2.com/elsie\" id=\"link1\">Elsie</a>, <a class=\"sister\" href=\"http://example3.com/elsie\" id=\"link1\">Elsie</a>]\n"
          ]
        }
      ]
    },
    {
      "cell_type": "code",
      "source": [
        "import requests\n",
        "from bs4 import BeautifulSoup\n",
        "\n",
        "url = 'https://www.imdb.com/chart/top/?ref_=nv_mv_250'\n",
        "\n",
        "html = requests.get(url).content #tüm html içeriklerini getiriyor\n",
        "soup = BeautifulSoup(html,'html.parser')\n",
        "\n",
        "list1 = soup.find('tbody',{'class':'lister-list'}).find_all(\"tr\",limit=5)\n",
        "count = 1\n",
        "\n",
        "for tr in list1:\n",
        "  title = tr.find(\"td\",{\"class\":\"titleColumn\"}).find(\"a\").text\n",
        "  year = tr.find(\"td\",{\"class\":\"titleColumn\"}).find('span').text\n",
        "  rating = tr.find(\"td\", {\"class\":\"ratingColumn imdbRating\"}).find(\"strong\").text\n",
        "\n",
        "  print(f\"{count}- film: {title.ljust(30)} yıl: {year} değerlendirme: {rating}\")\n",
        "  count+=1"
      ],
      "metadata": {
        "colab": {
          "base_uri": "https://localhost:8080/"
        },
        "id": "4NxoUuhnvFUg",
        "outputId": "3a22b150-e0ab-4479-fac7-7c17539fbdd8"
      },
      "execution_count": 7,
      "outputs": [
        {
          "output_type": "stream",
          "name": "stdout",
          "text": [
            "1- film: The Shawshank Redemption       yıl: (1994) değerlendirme: 9.2\n",
            "2- film: The Godfather                  yıl: (1972) değerlendirme: 9.2\n",
            "3- film: The Dark Knight                yıl: (2008) değerlendirme: 9.0\n",
            "4- film: The Godfather Part II          yıl: (1974) değerlendirme: 9.0\n",
            "5- film: 12 Angry Men                   yıl: (1957) değerlendirme: 9.0\n"
          ]
        }
      ]
    }
  ]
}