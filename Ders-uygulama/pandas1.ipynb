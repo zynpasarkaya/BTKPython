{
  "nbformat": 4,
  "nbformat_minor": 0,
  "metadata": {
    "colab": {
      "provenance": []
    },
    "kernelspec": {
      "name": "python3",
      "display_name": "Python 3"
    },
    "language_info": {
      "name": "python"
    }
  },
  "cells": [
    {
      "cell_type": "code",
      "source": [
        "pip install pandas"
      ],
      "metadata": {
        "colab": {
          "base_uri": "https://localhost:8080/"
        },
        "id": "YuUQ1ko-k2sW",
        "outputId": "de9c5b4b-ec67-4f06-c0e9-9103cd842f95"
      },
      "execution_count": 7,
      "outputs": [
        {
          "output_type": "stream",
          "name": "stdout",
          "text": [
            "Looking in indexes: https://pypi.org/simple, https://us-python.pkg.dev/colab-wheels/public/simple/\n",
            "Requirement already satisfied: pandas in /usr/local/lib/python3.9/dist-packages (1.4.4)\n",
            "Requirement already satisfied: numpy>=1.18.5 in /usr/local/lib/python3.9/dist-packages (from pandas) (1.22.4)\n",
            "Requirement already satisfied: pytz>=2020.1 in /usr/local/lib/python3.9/dist-packages (from pandas) (2022.7.1)\n",
            "Requirement already satisfied: python-dateutil>=2.8.1 in /usr/local/lib/python3.9/dist-packages (from pandas) (2.8.2)\n",
            "Requirement already satisfied: six>=1.5 in /usr/local/lib/python3.9/dist-packages (from python-dateutil>=2.8.1->pandas) (1.16.0)\n"
          ]
        }
      ]
    },
    {
      "cell_type": "code",
      "execution_count": 54,
      "metadata": {
        "colab": {
          "base_uri": "https://localhost:8080/"
        },
        "id": "t9Kr1jCc2O5N",
        "outputId": "572c54a0-1cd2-4dcd-cc56-ec77784fa949"
      },
      "outputs": [
        {
          "output_type": "stream",
          "name": "stdout",
          "text": [
            "                 Name                    Team  Number Position   Age Height  \\\n",
            "52        Carl Landry      Philadelphia 76ers     7.0       PF  32.0    6-9   \n",
            "87       Brandon Rush   Golden State Warriors     4.0       SF  30.0    6-6   \n",
            "94     Branden Dawson    Los Angeles Clippers    22.0       SF  23.0    6-6   \n",
            "106      Brandon Bass      Los Angeles Lakers     2.0       PF  31.0    6-8   \n",
            "115     Julius Randle      Los Angeles Lakers    30.0       PF  21.0    6-9   \n",
            "127    Brandon Knight            Phoenix Suns     3.0       PG  24.0    6-3   \n",
            "149     Eric Moreland        Sacramento Kings    25.0       PF  24.0   6-10   \n",
            "238  Chandler Parsons        Dallas Mavericks    25.0       SF  27.0   6-10   \n",
            "271     Zach Randolph       Memphis Grizzlies    50.0       PF  34.0    6-9   \n",
            "274    Brandan Wright       Memphis Grizzlies    34.0       PF  28.0   6-10   \n",
            "291   Orlando Johnson    New Orleans Pelicans     0.0       SG  27.0    6-5   \n",
            "386   Wilson Chandler          Denver Nuggets    21.0       SF  29.0    6-8   \n",
            "415        Randy Foye   Oklahoma City Thunder     6.0       SG  32.0    6-4   \n",
            "427   Cliff Alexander  Portland Trail Blazers    34.0       PF  20.0    6-8   \n",
            "\n",
            "     Weight           College      Salary  \n",
            "52    248.0            Purdue   6500000.0  \n",
            "87    220.0            Kansas   1270964.0  \n",
            "94    225.0    Michigan State    525093.0  \n",
            "106   250.0               LSU   3000000.0  \n",
            "115   250.0          Kentucky   3132240.0  \n",
            "127   189.0          Kentucky  13500000.0  \n",
            "149   238.0      Oregon State    845059.0  \n",
            "238   230.0           Florida  15361500.0  \n",
            "271   260.0    Michigan State   9638555.0  \n",
            "274   210.0    North Carolina   5464000.0  \n",
            "291   220.0  UC Santa Barbara     55722.0  \n",
            "386   225.0            DePaul  10449438.0  \n",
            "415   213.0         Villanova   3135000.0  \n",
            "427   240.0            Kansas    525093.0  \n"
          ]
        }
      ],
      "source": [
        "import pandas as pd\n",
        "pd.options.display.max_columns = None\n",
        "df = pd.read_csv(\"nba.csv\")\n",
        "#ilk 10 kayıt\n",
        "result = df.head(10)\n",
        "#toplam kaç kayıt\n",
        "result =len(df.index)\n",
        "#tüm oyuncuların toplam maaş ortalaması\n",
        "result = df['Salary'].mean()\n",
        "#En yüksek maaş\n",
        "result = df['Salary'].max()\n",
        "#en yüksek maaşı alan oyuncu / index istenmiyors iloc\n",
        "result =df[df['Salary'] == df['Salary'].max()]['Name'].iloc[0]\n",
        "#yaşı 20-25 arasında olan oyuncuların isim ve oynadıkları takımları azalan sıra\n",
        "result = df[(df['Age'] >= 20) & (df['Age'] <= 25)][['Name','Team','Age']].sort_values('Team',ascending=False)\n",
        "#john hollan isimli oyuncunun takımı\n",
        "result = df[df['Name'] == 'John Holland'][['Team','Name']]\n",
        "#Takımlara göre oyuncuların ortak maaşları\n",
        "result = df.groupby('Team').mean()['Salary']\n",
        "#kaç farklı takım mevcut\n",
        "result =len(df.groupby('Team'))\n",
        "result =df['Team'].nunique()\n",
        "#her takımda kaç oyuncu oynamaktadır.\n",
        "result = df['Team'].value_counts()\n",
        "#ismi içinde and geçen kayıtlar\n",
        "df= df.dropna()\n",
        "result = df[df['Name'].str.contains('and')]\n",
        "\n",
        "\n",
        "print(result)\n"
      ]
    }
  ]
}