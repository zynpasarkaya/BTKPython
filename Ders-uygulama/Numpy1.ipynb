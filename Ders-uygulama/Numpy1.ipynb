{
  "nbformat": 4,
  "nbformat_minor": 0,
  "metadata": {
    "colab": {
      "provenance": []
    },
    "kernelspec": {
      "name": "python3",
      "display_name": "Python 3"
    },
    "language_info": {
      "name": "python"
    }
  },
  "cells": [
    {
      "cell_type": "code",
      "execution_count": 24,
      "metadata": {
        "colab": {
          "base_uri": "https://localhost:8080/"
        },
        "id": "rzy3BhspKthd",
        "outputId": "6e5ae1bb-175b-4b3f-fb06-5f2ef9f2d86f"
      },
      "outputs": [
        {
          "output_type": "stream",
          "name": "stdout",
          "text": [
            "[10 11 12 13 14 15 16 17 18 19]\n",
            "[41 14 10 43 22]\n"
          ]
        }
      ],
      "source": [
        "import numpy as np\n",
        "# 1- (10,15,30,45,60) değerlerine sahip numpy dizisi oluşturunuz.\n",
        "result = np.array([10,15,30,45,60])\n",
        "\n",
        "# 2- (5-15) arasındaki sayılarla numpy dizisi oluşturunuz.\n",
        "result = np.arange(5,15)\n",
        "\n",
        "# 3- (50-100) arasında 5'er 5'er artarak numpy dizisi oluşturunuz.\n",
        "result = np.arange(50,100,5)\n",
        "\n",
        "# 4- 10 elemanlı sıfırlardan oluşan bir dizi oluşturunuz.\n",
        "result = np.zeros(10)\n",
        "\n",
        "# 5- 10 elemanlı birlerden oluşan bir dizi oluşturunuz.\n",
        "result = np.ones(10)\n",
        "\n",
        "# 6- (0-100) arasında eşit aralıklı 5 sayı üretin.\n",
        "result = np.linspace (0,100)\n",
        "\n",
        "# 7- (10-30) arasında rastgele 5 tane tamsayı üretin.\n",
        "result = np.random.randint(10,30,5)\n",
        "\n",
        "# 8- [-1 ile 1] arasında 10 adet sayı üretin.\n",
        "result = np.random.randn(10)\n",
        "\n",
        "# 9- (3x5) boyutlarında (10-50) arasında rastgele bir matris oluşturunuz.\n",
        "result = np.random.randint(10,50,15).reshape(3,5)\n",
        "\n",
        "# 10- Üretilen matrisin satır ve sütun sayıları toplamlarını hesaplayınız?\n",
        "mat = np.random.randint(10,50,15).reshape(3,5)\n",
        "result = mat.sum(axis=1)\n",
        "result = mat.sum(axis=0)\n",
        "\n",
        "# 11- Üretilen matrisin en büyük, en küçük ve ortalaması nedir ?\n",
        "result = mat.max()\n",
        "result = mat.min()\n",
        "result = mat.mean()\n",
        "\n",
        "# 12- Üretilen matrisin en büyük değerinin indeksi kaçtır ?\n",
        "result = mat.argmax()\n",
        "\n",
        "# 13- (10-20) arasındaki sayıları içeren dizinin ilk 3 elemanını seçiniz.\n",
        "arr = np.arange(10,20)\n",
        "print(arr)\n",
        "\n",
        "result = arr[:3]\n",
        "\n",
        "# 14- Üretilen dizinin elemanlarını tersten yazdırın.\n",
        "result = arr[::-1]\n",
        "\n",
        "# 15- Üretilen matrisin ilk satırını seçiniz.\n",
        "result = mat[0]\n",
        "\n",
        "\n",
        "print (result)"
      ]
    }
  ]
}