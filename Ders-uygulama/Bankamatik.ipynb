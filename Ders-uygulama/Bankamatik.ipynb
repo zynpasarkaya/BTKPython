{
  "nbformat": 4,
  "nbformat_minor": 0,
  "metadata": {
    "colab": {
      "provenance": []
    },
    "kernelspec": {
      "name": "python3",
      "display_name": "Python 3"
    },
    "language_info": {
      "name": "python"
    }
  },
  "cells": [
    {
      "cell_type": "code",
      "execution_count": 9,
      "metadata": {
        "colab": {
          "base_uri": "https://localhost:8080/"
        },
        "id": "fzzIX9TzhxeY",
        "outputId": "98ae9b02-ca92-4889-a346-d035bde65b95"
      },
      "outputs": [
        {
          "output_type": "stream",
          "name": "stdout",
          "text": [
            "merhaba zynp\n",
            "üzgünüz bakiye yetersiz\n",
            "4567896 nolu hesabınızda 5000 tl bulunmaktadır\n",
            "Hesabınıza para yatırmak istermisiniz (e/h)e\n",
            "hesabınıza kaç para yatırmak istersiniz5000\n",
            "4567896 nolu hesabınızda 10000 tl bulunmaktadır\n",
            "merhaba zynp\n",
            "paranızı alabilirsiniz\n",
            "4567896 nolu hesabınızda 8000 tl bulunmaktadır\n"
          ]
        }
      ],
      "source": [
        "Abdullahesap = {\n",
        "    'ad':'Abdullah',\n",
        "    'hesapno':'12345678',\n",
        "    'bakiye': 3000,\n",
        "    'ekhesap':2000\n",
        "}\n",
        "\n",
        "zynphesap = {\n",
        "    'ad':'zynp',\n",
        "    'hesapno':'4567896',\n",
        "    'bakiye': 5000,\n",
        "    'ekhesap':2000\n",
        "}\n",
        "\n",
        "\n",
        "def paracek(hesap,miktar):\n",
        "  print(f'merhaba {hesap[\"ad\"]}')\n",
        "\n",
        "  if hesap['bakiye'] >= miktar:\n",
        "    hesap['bakiye'] -= miktar\n",
        "    print('paranızı alabilirsiniz')\n",
        "    bakiyesorgula(hesap)\n",
        "  else:\n",
        "    toplam = hesap['bakiye'] + hesap['ekhesap']\n",
        "\n",
        "    if (toplam >= miktar):\n",
        "      ekhesapkullan = input('ek hesap kullanılsın mı (e/h)')\n",
        "     \n",
        "      if (ekhesapkullan == 'e'):\n",
        "        ekhesapmiktar = miktar - hesap['bakiye']\n",
        "        hesap['bakiye'] = 0\n",
        "        hesap['ekhesap'] -= ekhesapmiktar\n",
        "        print('paranızı alabilirsiniz')\n",
        "      else:\n",
        "        print(f'{hesap[\"hesapno\"]} nolu hesabınızda {hesap[\"bakiye\"]} tl bulunmaktadır')\n",
        "    else:\n",
        "      print('üzgünüz bakiye yetersiz')\n",
        "      bakiyesorgula(hesap)\n",
        "      parayat = input('Hesabınıza para yatırmak istermisiniz (e/h)')\n",
        "      \n",
        "      if (parayat =='e'):\n",
        "        parayatir(hesap)\n",
        "      else:\n",
        "        bakiyesorgula(hesap)\n",
        "\n",
        "\n",
        "def bakiyesorgula(hesap):\n",
        "  print(f'{hesap[\"hesapno\"]} nolu hesabınızda {hesap[\"bakiye\"]} tl bulunmaktadır')\n",
        "\n",
        "\n",
        "\n",
        "def parayatir(hesap):\n",
        "  yatir = int(input('hesabınıza kaç para yatırmak istersiniz'))\n",
        "  hesap['bakiye'] += yatir\n",
        "  bakiyesorgula(hesap)\n",
        "  paracek(zynphesap,2000)\n",
        "\n",
        "\n",
        "paracek(zynphesap,8000)\n",
        "\n",
        "\n",
        "\n",
        "\n"
      ]
    }
  ]
}