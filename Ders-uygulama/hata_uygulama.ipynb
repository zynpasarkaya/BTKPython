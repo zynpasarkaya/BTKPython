{
  "nbformat": 4,
  "nbformat_minor": 0,
  "metadata": {
    "colab": {
      "provenance": []
    },
    "kernelspec": {
      "name": "python3",
      "display_name": "Python 3"
    },
    "language_info": {
      "name": "python"
    }
  },
  "cells": [
    {
      "cell_type": "code",
      "execution_count": 2,
      "metadata": {
        "id": "mP3ROH0FVYJf"
      },
      "outputs": [],
      "source": [
        "liste = ['1','2','5a','10b','abc','10','50']"
      ]
    },
    {
      "cell_type": "code",
      "source": [
        "#liste elemanı içindeki sayısal değerleri bulun\n",
        "\n",
        "for i in liste:\n",
        "  try:\n",
        "    result = int(i)\n",
        "    print(result)\n",
        "  except ValueError:\n",
        "    continue"
      ],
      "metadata": {
        "colab": {
          "base_uri": "https://localhost:8080/"
        },
        "id": "7gRl8SHoV68I",
        "outputId": "43704cc9-2ca1-4840-85c0-a239f0ae17ea"
      },
      "execution_count": 4,
      "outputs": [
        {
          "output_type": "stream",
          "name": "stdout",
          "text": [
            "1\n",
            "2\n",
            "10\n",
            "50\n"
          ]
        }
      ]
    },
    {
      "cell_type": "code",
      "source": [
        "while True:\n",
        "   harf = input('bir sayı giriniz')\n",
        "   if harf == 'q':\n",
        "     break\n",
        "   \n",
        "   try:\n",
        "      result = float(harf)\n",
        "   except:\n",
        "     print('geçersiz sayı')\n",
        "     continue\n"
      ],
      "metadata": {
        "colab": {
          "base_uri": "https://localhost:8080/"
        },
        "id": "2NuNQ6b2X1Sw",
        "outputId": "fd683ffc-fe2b-4d87-f5ce-a72ef65ef69f"
      },
      "execution_count": 5,
      "outputs": [
        {
          "name": "stdout",
          "output_type": "stream",
          "text": [
            "bir sayı giriniz3\n",
            "bir sayı girinizr\n",
            "geçersiz sayı\n",
            "bir sayı girinizg\n",
            "geçersiz sayı\n",
            "bir sayı giriniz34\n",
            "bir sayı girinizq\n"
          ]
        }
      ]
    },
    {
      "cell_type": "code",
      "source": [
        "pass_ = input('Pasword giriniz: ')\n",
        "import re\n",
        "if re.search('[ğ,ü,ş,ı,ö,ç]',pass_):\n",
        "   print('Geçersiz parola')\n",
        "else:\n",
        "   print('Parola geçerli')"
      ],
      "metadata": {
        "colab": {
          "base_uri": "https://localhost:8080/"
        },
        "id": "ZO3Y1DumZQ_G",
        "outputId": "fd35d749-402a-4f79-8e94-f3708d4f58c8"
      },
      "execution_count": 14,
      "outputs": [
        {
          "output_type": "stream",
          "name": "stdout",
          "text": [
            "Pasword giriniz: assdsadsadasfiş\n",
            "Geçersiz parola\n"
          ]
        }
      ]
    },
    {
      "cell_type": "code",
      "source": [
        "from logging import exception\n",
        "#fakt fonksiyonu oluşturup fonksiyona gelen değer için hata msj\n",
        "import math\n",
        "\n",
        "def fak(x):\n",
        "  if x < 0:\n",
        "    raise ValueError('hataaa')\n",
        "  else:\n",
        "    say = math.factorial(x)\n",
        "    print(say)\n",
        "x1 = int(input('Bir sayı gir: ')) \n",
        "fak(x1)"
      ],
      "metadata": {
        "colab": {
          "base_uri": "https://localhost:8080/"
        },
        "id": "XS3eSiiMno3F",
        "outputId": "05b253f2-675a-4978-8aa3-e552bba2edb6"
      },
      "execution_count": 19,
      "outputs": [
        {
          "output_type": "stream",
          "name": "stdout",
          "text": [
            "Bir sayı gir: 8\n",
            "40320\n"
          ]
        }
      ]
    }
  ]
}