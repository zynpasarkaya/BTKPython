{
  "nbformat": 4,
  "nbformat_minor": 0,
  "metadata": {
    "colab": {
      "provenance": []
    },
    "kernelspec": {
      "name": "python3",
      "display_name": "Python 3"
    },
    "language_info": {
      "name": "python"
    }
  },
  "cells": [
    {
      "cell_type": "markdown",
      "source": [
        "Gönderilen birkelimeyi belirtilen kez ekranda gösterme"
      ],
      "metadata": {
        "id": "8VIqo7bEQmeP"
      }
    },
    {
      "cell_type": "code",
      "execution_count": 4,
      "metadata": {
        "colab": {
          "base_uri": "https://localhost:8080/"
        },
        "id": "wSsc5t0mQd91",
        "outputId": "3300bffb-9c8e-468e-de22-36b252d45223"
      },
      "outputs": [
        {
          "output_type": "stream",
          "name": "stdout",
          "text": [
            "Metni Giriniz abdullah\n",
            "Kaç kere yazılsın 1\n",
            "abdullah\n"
          ]
        }
      ],
      "source": [
        "def goster(metin,kac):\n",
        "  n=0\n",
        "  for n in range(kac):\n",
        "    print(metin)\n",
        "\n",
        "metin = input('Metni Giriniz ')\n",
        "kac = int(input('Kaç kere yazılsın '))\n",
        "goster(metin,kac)\n",
        "\n"
      ]
    },
    {
      "cell_type": "markdown",
      "source": [
        "kendine gönderilen sınırsız sayıdaki parametreyi bir listeye çeviren "
      ],
      "metadata": {
        "id": "GOHQhfDmRnB9"
      }
    },
    {
      "cell_type": "code",
      "source": [
        "def sende(*param):\n",
        "  liste = []\n",
        "\n",
        "  for params in param:\n",
        "    liste.append(params)\n",
        "\n",
        "  return liste\n",
        "\n",
        "result = sende(10,20,30,40)\n",
        "print(result)"
      ],
      "metadata": {
        "colab": {
          "base_uri": "https://localhost:8080/"
        },
        "id": "3aOHuwE4R3xM",
        "outputId": "b0b12e85-4833-448d-e99d-a0f2ede037c7"
      },
      "execution_count": 6,
      "outputs": [
        {
          "output_type": "stream",
          "name": "stdout",
          "text": [
            "[10, 20, 30, 40]\n"
          ]
        }
      ]
    },
    {
      "cell_type": "markdown",
      "source": [
        "gönderilen 2 sayı arasındaki tüm asal sayıları bulun"
      ],
      "metadata": {
        "id": "wp0IHwXrUf7m"
      }
    },
    {
      "cell_type": "code",
      "source": [
        "def asal(sayi1,sayi2):\n",
        "  for sayi in range(sayi1,sayi2+1):\n",
        "    if sayi > 1:\n",
        "      for i in range(2,sayi):\n",
        "        if (sayi % i == 0):\n",
        "          break\n",
        "      else:\n",
        "          print(sayi)\n",
        "\n",
        "sayi1 = int(input('sayı 1 '))\n",
        "sayi2 = int(input('sayı 2 '))\n",
        "asal(sayi1,sayi2)\n",
        "\n",
        "\n",
        "\n"
      ],
      "metadata": {
        "colab": {
          "base_uri": "https://localhost:8080/"
        },
        "id": "cSsmha6KUpO_",
        "outputId": "b68c3d6c-1245-4a45-aa01-43d32ca59e4a"
      },
      "execution_count": 8,
      "outputs": [
        {
          "output_type": "stream",
          "name": "stdout",
          "text": [
            "sayı 1 2\n",
            "sayı 2 10\n",
            "2\n",
            "3\n",
            "5\n",
            "7\n"
          ]
        }
      ]
    }
  ]
}