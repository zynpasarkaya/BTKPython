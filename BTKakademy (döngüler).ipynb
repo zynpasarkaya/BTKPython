{
  "nbformat": 4,
  "nbformat_minor": 0,
  "metadata": {
    "colab": {
      "provenance": []
    },
    "kernelspec": {
      "name": "python3",
      "display_name": "Python 3"
    },
    "language_info": {
      "name": "python"
    }
  },
  "cells": [
    {
      "cell_type": "markdown",
      "source": [
        "SAyılar for döngüsü alıştırmaları"
      ],
      "metadata": {
        "id": "HZwZNVNUGC2F"
      }
    },
    {
      "cell_type": "code",
      "execution_count": 7,
      "metadata": {
        "colab": {
          "base_uri": "https://localhost:8080/"
        },
        "id": "oQkX_XL4F5tw",
        "outputId": "53852301-fd69-4f15-ed34-1720037cb239"
      },
      "outputs": [
        {
          "output_type": "stream",
          "name": "stdout",
          "text": [
            "3\n",
            "9\n",
            "12\n",
            "21\n"
          ]
        }
      ],
      "source": [
        "sayilar = [1,3,5,7,9,12,19,21]\n",
        "#3 ün katı\n",
        "for say in sayilar: \n",
        "  if say % 3 == 0 :\n",
        "    print(say) \n"
      ]
    },
    {
      "cell_type": "code",
      "source": [
        "#sayıların toplamı\n",
        "toplam=0\n",
        "for say1 in sayilar:\n",
        "  toplam = toplam+say1\n",
        "print(toplam)"
      ],
      "metadata": {
        "colab": {
          "base_uri": "https://localhost:8080/"
        },
        "id": "CjgCMF_9Jj5L",
        "outputId": "8a03a46b-e859-4207-9b51-98ac44dd5794"
      },
      "execution_count": 12,
      "outputs": [
        {
          "output_type": "stream",
          "name": "stdout",
          "text": [
            "77\n"
          ]
        }
      ]
    },
    {
      "cell_type": "code",
      "source": [
        "#Tek sayıların karesi\n",
        "for tek in sayilar:\n",
        "  if tek % 2 == 1 :\n",
        "    kare = tek ** 2\n",
        "    print(kare)"
      ],
      "metadata": {
        "colab": {
          "base_uri": "https://localhost:8080/"
        },
        "id": "UMLSAUrEJs7N",
        "outputId": "463ee4c5-72c4-4b88-b1a7-3072ac644476"
      },
      "execution_count": 11,
      "outputs": [
        {
          "output_type": "stream",
          "name": "stdout",
          "text": [
            "1\n",
            "9\n",
            "25\n",
            "49\n",
            "81\n",
            "361\n",
            "441\n"
          ]
        }
      ]
    },
    {
      "cell_type": "code",
      "source": [
        "#hangileri en fazla 5karakter\n",
        "sehirler = ['kocaeli','istanbul','ankara','izmir','rize']\n",
        "\n",
        "for sehir in sehirler:\n",
        "  if len(sehir) <= 5:\n",
        "    print(sehir) \n",
        "\n"
      ],
      "metadata": {
        "colab": {
          "base_uri": "https://localhost:8080/"
        },
        "id": "03ajKiTvKwxc",
        "outputId": "db0560c5-948d-4498-d72c-6781228f0881"
      },
      "execution_count": 14,
      "outputs": [
        {
          "output_type": "stream",
          "name": "stdout",
          "text": [
            "izmir\n",
            "rize\n"
          ]
        }
      ]
    },
    {
      "cell_type": "code",
      "source": [
        "urunler =[ {'name':'a','price':'1000'},\n",
        "           {'name':'b','price':'2000'}\n",
        "]\n",
        "toplam=0\n",
        "for urun in urunler :\n",
        "  print(urun['price'])\n",
        "  toplam += int(urun['price'])\n",
        "print(toplam)\n",
        "\n",
        "\n"
      ],
      "metadata": {
        "colab": {
          "base_uri": "https://localhost:8080/"
        },
        "id": "g-E27_BLNBo4",
        "outputId": "ac2a2f94-22bc-4e84-af46-db09d629d35a"
      },
      "execution_count": 3,
      "outputs": [
        {
          "output_type": "stream",
          "name": "stdout",
          "text": [
            "1000\n",
            "2000\n",
            "3000\n"
          ]
        }
      ]
    },
    {
      "cell_type": "code",
      "source": [
        "for urun in urunler : \n",
        "  if urun['price'] == '2000' :\n",
        "    print(urun['name'])"
      ],
      "metadata": {
        "colab": {
          "base_uri": "https://localhost:8080/"
        },
        "id": "VjwMqS3dgs7H",
        "outputId": "e0ce5432-f6c2-4ca3-92d4-2686826565d4"
      },
      "execution_count": 7,
      "outputs": [
        {
          "output_type": "stream",
          "name": "stdout",
          "text": [
            "b\n"
          ]
        }
      ]
    },
    {
      "cell_type": "markdown",
      "source": [
        "While döngüler"
      ],
      "metadata": {
        "id": "rf9TVc4AhiDM"
      }
    },
    {
      "cell_type": "code",
      "source": [
        "name = '' #False\n",
        "while not name: #not name=true\n",
        "  name = input('isminizi giriniz')\n",
        "print(f'marhaba, {name}')"
      ],
      "metadata": {
        "colab": {
          "base_uri": "https://localhost:8080/"
        },
        "id": "o_zorFXohlJm",
        "outputId": "c6371105-ca21-4c6f-f3d5-f0e9b264bc12"
      },
      "execution_count": 9,
      "outputs": [
        {
          "output_type": "stream",
          "name": "stdout",
          "text": [
            "isminizi giriniz\n",
            "isminizi giriniz\n",
            "isminizi girinizhjkpukjlhötşlh\n",
            "marhaba, hjkpukjlhötşlh\n"
          ]
        }
      ]
    },
    {
      "cell_type": "code",
      "source": [
        "sayilar = [1,3,5,7,9,12,19,21]\n",
        "i = 0\n",
        "while (i < len(sayilar)):\n",
        "  print(sayilar[i])\n",
        "  i +=1"
      ],
      "metadata": {
        "colab": {
          "base_uri": "https://localhost:8080/"
        },
        "id": "ECm2gj8Klq4F",
        "outputId": "abbfbfbc-a60a-4c12-e50b-e47a82a56171"
      },
      "execution_count": 14,
      "outputs": [
        {
          "output_type": "stream",
          "name": "stdout",
          "text": [
            "1\n",
            "3\n",
            "5\n",
            "7\n",
            "9\n",
            "12\n",
            "19\n",
            "21\n"
          ]
        }
      ]
    },
    {
      "cell_type": "code",
      "source": [
        "# başlangıç ve bitiş değerlerini kullanıcıdan alarak aradaki tek sayılar\n",
        "birinci = int(input('başlangıç '))\n",
        "ikinci = int(input('bitiş '))\n",
        "\n",
        "i= birinci\n",
        "while i <= ikinci:\n",
        "  if i % 2 == 1 :\n",
        "    print(i)\n",
        "  i += 1\n",
        "\n",
        "  "
      ],
      "metadata": {
        "colab": {
          "base_uri": "https://localhost:8080/"
        },
        "id": "mSGvrhaSnI_e",
        "outputId": "b9a9b959-36ee-40c6-826f-334f08563820"
      },
      "execution_count": 18,
      "outputs": [
        {
          "output_type": "stream",
          "name": "stdout",
          "text": [
            "başlangıç 1\n",
            "bitiş 3\n",
            "1\n",
            "3\n"
          ]
        }
      ]
    },
    {
      "cell_type": "code",
      "source": [
        "#azalan yazdırma\n",
        "xs=100\n",
        "while xs > 0:\n",
        "  print(xs)\n",
        "  xs = xs - 1\n",
        "  "
      ],
      "metadata": {
        "colab": {
          "base_uri": "https://localhost:8080/"
        },
        "id": "wAUM_NOLrAjw",
        "outputId": "5add2f2c-ed5e-4ecc-b87f-ef2863d319b6"
      },
      "execution_count": 28,
      "outputs": [
        {
          "output_type": "stream",
          "name": "stdout",
          "text": [
            "100\n",
            "99\n",
            "98\n",
            "97\n",
            "96\n",
            "95\n",
            "94\n",
            "93\n",
            "92\n",
            "91\n",
            "90\n",
            "89\n",
            "88\n",
            "87\n",
            "86\n",
            "85\n",
            "84\n",
            "83\n",
            "82\n",
            "81\n",
            "80\n",
            "79\n",
            "78\n",
            "77\n",
            "76\n",
            "75\n",
            "74\n",
            "73\n",
            "72\n",
            "71\n",
            "70\n",
            "69\n",
            "68\n",
            "67\n",
            "66\n",
            "65\n",
            "64\n",
            "63\n",
            "62\n",
            "61\n",
            "60\n",
            "59\n",
            "58\n",
            "57\n",
            "56\n",
            "55\n",
            "54\n",
            "53\n",
            "52\n",
            "51\n",
            "50\n",
            "49\n",
            "48\n",
            "47\n",
            "46\n",
            "45\n",
            "44\n",
            "43\n",
            "42\n",
            "41\n",
            "40\n",
            "39\n",
            "38\n",
            "37\n",
            "36\n",
            "35\n",
            "34\n",
            "33\n",
            "32\n",
            "31\n",
            "30\n",
            "29\n",
            "28\n",
            "27\n",
            "26\n",
            "25\n",
            "24\n",
            "23\n",
            "22\n",
            "21\n",
            "20\n",
            "19\n",
            "18\n",
            "17\n",
            "16\n",
            "15\n",
            "14\n",
            "13\n",
            "12\n",
            "11\n",
            "10\n",
            "9\n",
            "8\n",
            "7\n",
            "6\n",
            "5\n",
            "4\n",
            "3\n",
            "2\n",
            "1\n"
          ]
        }
      ]
    },
    {
      "cell_type": "code",
      "source": [
        "# Kullanıcıdan alınan 5 sayıyı sırlama\n",
        "numbers = []\n",
        "i=0\n",
        "\n",
        "while i<5:\n",
        "  sayi = int(input('sayı giriniz '))\n",
        "  numbers.append(sayi)\n",
        "  i += 1\n",
        "numbers.sort()\n",
        "print(numbers)"
      ],
      "metadata": {
        "colab": {
          "base_uri": "https://localhost:8080/"
        },
        "id": "R9Ra3MhJtYf-",
        "outputId": "9bb76095-221d-4b42-98a1-18c5e90564c6"
      },
      "execution_count": 30,
      "outputs": [
        {
          "output_type": "stream",
          "name": "stdout",
          "text": [
            "sayı giriniz 55\n",
            "sayı giriniz 13\n",
            "sayı giriniz 25\n",
            "sayı giriniz 47\n",
            "sayı giriniz 69\n",
            "[13, 25, 47, 55, 69]\n"
          ]
        }
      ]
    },
    {
      "cell_type": "code",
      "source": [
        "urunler = []\n",
        "adet= int(input('kaç ürün '))\n",
        "i=0\n",
        "while (i<adet):\n",
        "  name =input('isim')\n",
        "  price=input('fiyat')\n",
        "  urunler.append({\n",
        "      'name':name,\n",
        "      'price':price\n",
        "  })\n",
        "  i+=1\n",
        "for urun in urunler:\n",
        "  print(f'ürün adı {urun[\"name\"]}, ürün fiyatı {urun[\"price\"]}')\n",
        "\n",
        " \n"
      ],
      "metadata": {
        "colab": {
          "base_uri": "https://localhost:8080/"
        },
        "id": "DtPm7WNFuh8y",
        "outputId": "88819378-7bfe-4293-82a8-8a7defe5dc84"
      },
      "execution_count": 32,
      "outputs": [
        {
          "output_type": "stream",
          "name": "stdout",
          "text": [
            "kaç ürün 3\n",
            "isimzxc\n",
            "fiyat100\n",
            "isimdfg\n",
            "fiyat700\n",
            "isimyuı\n",
            "fiyat500\n",
            "ürün adı zxc, ürün fiyatı 100\n",
            "ürün adı dfg, ürün fiyatı 700\n",
            "ürün adı yuı, ürün fiyatı 500\n"
          ]
        }
      ]
    },
    {
      "cell_type": "code",
      "source": [
        "# break continue\n",
        "name = 'Zeynep Asarkaya'\n",
        "\n",
        "for letter in name :\n",
        "  if letter == 's':\n",
        "     break #continue\n",
        "  print(letter)\n",
        "\n",
        "\n",
        "x=0\n",
        "while x < 5:\n",
        " x+=1 \n",
        " if x == 2:\n",
        "   continue\n",
        " print(x)\n"
      ],
      "metadata": {
        "colab": {
          "base_uri": "https://localhost:8080/"
        },
        "id": "j2tAfQIbRIx9",
        "outputId": "dcf1246e-b822-4aaf-c457-d0f5ee2185e3"
      },
      "execution_count": 6,
      "outputs": [
        {
          "output_type": "stream",
          "name": "stdout",
          "text": [
            "Z\n",
            "e\n",
            "y\n",
            "n\n",
            "e\n",
            "p\n",
            " \n",
            "A\n",
            "1\n",
            "3\n",
            "4\n",
            "5\n"
          ]
        }
      ]
    },
    {
      "cell_type": "code",
      "source": [
        "# 1-100 e kadar tek sayılar toplamı\n",
        "\n",
        "x=0\n",
        "topla=0\n",
        "while x <= 100:\n",
        "  x+=1  \n",
        "  if x % 2 == 1:\n",
        "    topla=topla+x\n",
        "  continue\n",
        "    \n",
        "  \n",
        "print(topla)\n"
      ],
      "metadata": {
        "colab": {
          "base_uri": "https://localhost:8080/"
        },
        "id": "Hc0TxdigTR_c",
        "outputId": "33782c43-1755-4430-f84a-0e2221e9c1f2"
      },
      "execution_count": 26,
      "outputs": [
        {
          "output_type": "stream",
          "name": "stdout",
          "text": [
            "2601\n"
          ]
        }
      ]
    }
  ]
}