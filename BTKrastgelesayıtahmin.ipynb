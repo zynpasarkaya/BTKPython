{
  "nbformat": 4,
  "nbformat_minor": 0,
  "metadata": {
    "colab": {
      "provenance": []
    },
    "kernelspec": {
      "name": "python3",
      "display_name": "Python 3"
    },
    "language_info": {
      "name": "python"
    }
  },
  "cells": [
    {
      "cell_type": "markdown",
      "source": [],
      "metadata": {
        "id": "Wl4XX6aU4L9H"
      }
    },
    {
      "cell_type": "markdown",
      "source": [
        "1-100 arasında rastgele üretilecek bir sayıyı aşağı yukarı ifadeleri ile bulmaya çalışın\n",
        "* 100 üzerinden puanlama\n",
        "* Hak bilgisi kullanıcıdan alın ve her soru belirtilen can sayısı üzerinden hesaplansın"
      ],
      "metadata": {
        "id": "2BM5WvZo4PHW"
      }
    },
    {
      "cell_type": "code",
      "execution_count": 18,
      "metadata": {
        "colab": {
          "base_uri": "https://localhost:8080/"
        },
        "id": "EO4SmCiv3pWZ",
        "outputId": "bfd6b67d-850b-4f8b-c268-ec2b87862269"
      },
      "outputs": [
        {
          "output_type": "stream",
          "name": "stdout",
          "text": [
            "Kaç tahmin hakkı istersiniz: 5\n",
            "OYUN BAŞLADI\n",
            "Tahmininizi giriniz: 45\n",
            "Daha küçük bir sayı seçin \n",
            "Tahmininizi giriniz: 35\n",
            "Daha büyük bir sayı seçin\n",
            "Tahmininizi giriniz: 38\n",
            "Daha küçük bir sayı seçin \n",
            "Tahmininizi giriniz: 36\n",
            "Tebrikleri Bildiniz,Toplam puan40.0\n",
            "Tahmin hakkınız bitti\n"
          ]
        }
      ],
      "source": [
        "import random\n",
        "\n",
        "\n",
        "sayi = random.randint(1,100)\n",
        "hak = int(input('Kaç tahmin hakkı istersiniz: '))\n",
        "print('OYUN BAŞLADI')\n",
        "sayac=0\n",
        "\n",
        "for x in range(hak):\n",
        " sayac +=1 \n",
        " tahmin = int(input('Tahmininizi giriniz: '))\n",
        " if sayi == tahmin:\n",
        "    print(f'Tebrikleri Bildiniz,Toplam puan {100 - (100/hak) * (sayac-1)}')\n",
        "    break\n",
        " elif sayi < tahmin:\n",
        "    print('Daha küçük bir sayı seçin ')\n",
        " elif sayi > tahmin:\n",
        "    print('Daha büyük bir sayı seçin')\n",
        "\n",
        "print('Tahmin hakkınız bitti')\n"
      ]
    },
    {
      "cell_type": "code",
      "source": [
        "import random\n",
        "sayi = random.randint(1,100)\n",
        "can = int(input('Tahmininizi giriniz: '))\n",
        "hak = can\n",
        "sayac = 0\n",
        "\n",
        "while hak>0:\n",
        "  hak -=1\n",
        "  sayac +=1\n",
        "  tahmin = int(input('Tahmin: '))\n",
        "  if sayi == tahmin:\n",
        "    print(f'bildiniz {sayac}. defa da bildiniz.Toplam puan{100 - (100/can) * (sayac-1)}')\n",
        "    break\n",
        "  elif sayi > tahmin:\n",
        "    print('yukarı')\n",
        "  else:\n",
        "    print('aşağı')\n",
        "\n",
        "  if hak == 0:\n",
        "    print(f'hakkınız bitti, Tutulan sayı{sayi}')\n"
      ],
      "metadata": {
        "colab": {
          "base_uri": "https://localhost:8080/"
        },
        "id": "2I2Y0LRAABl1",
        "outputId": "aaebe58b-1df7-4054-ddba-a899aa3f892c"
      },
      "execution_count": 17,
      "outputs": [
        {
          "output_type": "stream",
          "name": "stdout",
          "text": [
            "Tahmininizi giriniz: 3\n",
            "Tahmin: 45\n",
            "yukarı\n",
            "Tahmin: 56\n",
            "yukarı\n",
            "Tahmin: 89\n",
            "yukarı\n",
            "hakkınız bitti, Tutulan sayı95\n"
          ]
        }
      ]
    }
  ]
}